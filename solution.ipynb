{
 "cells": [
  {
   "cell_type": "code",
   "execution_count": 1,
   "id": "5c2ecce7",
   "metadata": {},
   "outputs": [],
   "source": [
    "from pathlib import Path\n",
    "import zipfile as zf"
   ]
  },
  {
   "cell_type": "code",
   "execution_count": 2,
   "id": "9e5bd0e7",
   "metadata": {},
   "outputs": [
    {
     "name": "stdout",
     "output_type": "stream",
     "text": [
      "exists\n"
     ]
    }
   ],
   "source": [
    "zip_name = \"farmers-protest-tweets-2021-03-5.json.zip\"\n",
    "json_name = \"farmers-protest-tweets-2021-03-5.json\"\n",
    "json_file = Path(json_name)\n",
    "\n",
    "# estoy suponiendo que el zip/json está en local\n",
    "# hacemos unzip del archivo si aún no\n",
    "# está extraido\n",
    "\n",
    "if not json_file.exists():\n",
    "    print(\"does not exist\")\n",
    "    print(\"unzipping\")\n",
    "    files = zf.ZipFile(zip_name,'r')\n",
    "    files.extractall()\n",
    "    files.close()\n",
    "else:\n",
    "    print(\"exists\")"
   ]
  },
  {
   "cell_type": "code",
   "execution_count": 65,
   "id": "dde26c4e",
   "metadata": {},
   "outputs": [],
   "source": [
    "import json\n",
    "\n",
    "filename = \"farmers-protest-tweets-2021-03-5.json\"\n",
    "data = []\n",
    "counter = 0\n",
    "with open(filename) as f:\n",
    "    for line in f:\n",
    "        counter += 1\n",
    "        if not counter % 10000:\n",
    "            pass\n",
    "        if counter == 10000:\n",
    "            break\n",
    "        json.loads(line)\n",
    "\n"
   ]
  },
  {
   "cell_type": "code",
   "execution_count": 62,
   "id": "641d1d33",
   "metadata": {},
   "outputs": [],
   "source": [
    "def top_10_retweeted(filename):\n",
    "\n",
    "    counter = 0\n",
    "    N = 10\n",
    "    tweets = [None for _ in range(10)]\n",
    "    n_retweets = [-1 for _ in range(10)]\n",
    "    min_pos = 0\n",
    "\n",
    "    with open(filename) as f:\n",
    "\n",
    "        for line in f:\n",
    "            \n",
    "            json_object = json.loads(line)\n",
    "            if n_retweets[min_pos] < json_object[\"retweetCount\"]:\n",
    "                tweets[min_pos] = json_object\n",
    "                n_retweets[min_pos] = json_object[\"retweetCount\"]\n",
    "                min_pos = min(range(len(n_retweets)), key=n_retweets.__getitem__)\n",
    "\n",
    "\n",
    "            # print(json_object.keys())\n",
    "            # print(json_object[\"retweetCount\"])\n",
    "    return tweets, n_retweets\n"
   ]
  },
  {
   "cell_type": "code",
   "execution_count": 72,
   "id": "576f639e",
   "metadata": {},
   "outputs": [],
   "source": [
    "filename = \"farmers-protest-tweets-2021-03-5.json\"\n",
    "def top_10_users(filename):\n",
    "    N = 10\n",
    "    users = [None for _ in range(N)]\n",
    "    users_id = [None for _ in range(N)]\n",
    "    n_tweets = [-1 for _ in range(N)]\n",
    "    min_pos = 0\n",
    "    field = \"statusesCount\"\n",
    "    counter = 0\n",
    "\n",
    "    with open(filename) as f:\n",
    "\n",
    "        for line in f:\n",
    "            \n",
    "            \n",
    "            json_tweet = json.loads(line)\n",
    "            json_user = json_tweet['user']\n",
    "            if n_tweets[min_pos] < json_user[field]:\n",
    "                if json_user['id'] not in users_id:\n",
    "                    users[min_pos] = json_user\n",
    "                    n_tweets[min_pos] = json_user[field]\n",
    "                    users_id[min_pos] = json_user['id']\n",
    "                    min_pos = min(range(len(n_tweets)), key=n_tweets.__getitem__)\n",
    "\n",
    "                \n",
    "\n",
    "    return users, n_tweets"
   ]
  },
  {
   "cell_type": "code",
   "execution_count": 75,
   "id": "44a46304",
   "metadata": {},
   "outputs": [
    {
     "name": "stdout",
     "output_type": "stream",
     "text": [
      "{'2021-03-26': 3958, '2021-03-16': 3113, '2021-03-27': 2995, '2021-03-18': 2964, '2021-03-21': 2650, '2021-03-20': 2595, '2021-03-25': 2584, '2021-03-19': 2516, '2021-03-13': 2492, '2021-03-17': 2451}\n"
     ]
    }
   ],
   "source": [
    "filename = \"farmers-protest-tweets-2021-03-5.json\"\n",
    "def top_10_days(filename):\n",
    "    \n",
    "    days_dict = {}\n",
    "\n",
    "    min_pos = 0\n",
    "    field = \"statusesCount\"\n",
    "    \n",
    "    counter = 0\n",
    "\n",
    "    with open(filename) as f:\n",
    "\n",
    "        for line in f:\n",
    "            \n",
    "            json_tweet = json.loads(line)\n",
    "            date = json_tweet['date'][:10]\n",
    "            if date not in days_dict.keys():\n",
    "                days_dict[date] = 1\n",
    "            else:\n",
    "                days_dict[date] += 1\n",
    "\n",
    "            \n",
    "    sorted_days = {k: v for k, v in sorted(days_dict.items(), key=lambda item: item[1], reverse=True)}\n",
    "    top_days = {k: sorted_days[k] for k in list(sorted_days)[:10]}\n",
    "    \n",
    "    return top_days"
   ]
  },
  {
   "cell_type": "code",
   "execution_count": 79,
   "id": "8fa54e2a",
   "metadata": {},
   "outputs": [
    {
     "name": "stdout",
     "output_type": "stream",
     "text": [
      "TOP 10 retweets\n",
      "\n",
      "id: 1375649917121650690     amount: 865\n",
      "id: 1376205351058464768     amount: 1220\n",
      "id: 1375641039369728001     amount: 627\n",
      "id: 1375629316202000386     amount: 727\n",
      "id: 1375624092284416003     amount: 562\n",
      "id: 1375784155305320451     amount: 793\n",
      "id: 1375637232954961926     amount: 727\n",
      "id: 1375901131986075651     amount: 985\n",
      "id: 1376087143903227905     amount: 553\n",
      "id: 1375689526572556288     amount: 595\n",
      "\n",
      "TOP 10 USERS\n",
      "\n",
      "user id: 19897138     N° tweets: 851081\n",
      "user id: 39743812     N° tweets: 503123\n",
      "user id: 36327407     N° tweets: 867921\n",
      "user id: 18159588     N° tweets: 376071\n",
      "user id: 134758540     N° tweets: 646225\n",
      "user id: 37034483     N° tweets: 798290\n",
      "user id: 94761188     N° tweets: 623821\n",
      "user id: 1642797091     N° tweets: 394350\n",
      "user id: 22763833     N° tweets: 383472\n",
      "user id: 17710740     N° tweets: 610341\n",
      "\n",
      "TOP 10 Days\n",
      "\n",
      "date: 2021-03-26      amount: 3958\n",
      "date: 2021-03-16      amount: 3113\n",
      "date: 2021-03-27      amount: 2995\n",
      "date: 2021-03-18      amount: 2964\n",
      "date: 2021-03-21      amount: 2650\n",
      "date: 2021-03-20      amount: 2595\n",
      "date: 2021-03-25      amount: 2584\n",
      "date: 2021-03-19      amount: 2516\n",
      "date: 2021-03-13      amount: 2492\n",
      "date: 2021-03-17      amount: 2451\n"
     ]
    }
   ],
   "source": [
    "# Este es el MAIN que llama a las otras funciones\n",
    "\n",
    "filename = \"farmers-protest-tweets-2021-03-5.json\"\n",
    "top_10, _ = top_10_retweeted(filename)\n",
    "print(\"TOP 10 retweets\\n\")\n",
    "for element in top_10:\n",
    "    print(\"id:\", element[\"id\"],\"    amount:\", element[\"retweetCount\"])\n",
    "    \n",
    "print(\"\\nTOP 10 USERS\\n\")\n",
    "top_10_users_list, _ = top_10_users(filename)\n",
    "for user in top_10_users_list:\n",
    "    print(\"user id:\", user['id'], \"    N° tweets:\", user['statusesCount'])\n",
    "    \n",
    "print(\"\\nTOP 10 Days\\n\")\n",
    "top_10_days_dict = top_10_days(filename)\n",
    "for key in top_10_days_dict.keys():\n",
    "    print(\"date:\",key,\"     amount:\", top_10_days_dict[key])"
   ]
  },
  {
   "cell_type": "markdown",
   "id": "6b01520f",
   "metadata": {},
   "source": []
  }
 ],
 "metadata": {
  "kernelspec": {
   "display_name": "Python 3 (ipykernel)",
   "language": "python",
   "name": "python3"
  },
  "language_info": {
   "codemirror_mode": {
    "name": "ipython",
    "version": 3
   },
   "file_extension": ".py",
   "mimetype": "text/x-python",
   "name": "python",
   "nbconvert_exporter": "python",
   "pygments_lexer": "ipython3",
   "version": "3.9.6"
  }
 },
 "nbformat": 4,
 "nbformat_minor": 5
}
