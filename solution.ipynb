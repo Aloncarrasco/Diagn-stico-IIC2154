{
 "cells": [
  {
   "cell_type": "code",
   "execution_count": 1,
   "id": "5c2ecce7",
   "metadata": {},
   "outputs": [],
   "source": [
    "from pathlib import Path\n",
    "import zipfile as zf"
   ]
  },
  {
   "cell_type": "code",
   "execution_count": 2,
   "id": "9e5bd0e7",
   "metadata": {},
   "outputs": [
    {
     "name": "stdout",
     "output_type": "stream",
     "text": [
      "exists\n"
     ]
    }
   ],
   "source": [
    "zip_name = \"farmers-protest-tweets-2021-03-5.json.zip\"\n",
    "json_name = \"farmers-protest-tweets-2021-03-5.json\"\n",
    "json_file = Path(json_name)\n",
    "\n",
    "# estoy suponiendo que el zip/json está en local\n",
    "# hacemos unzip del archivo si aún no\n",
    "# está extraido\n",
    "\n",
    "if not json_file.exists():\n",
    "    print(\"does not exist\")\n",
    "    print(\"unzipping\")\n",
    "    files = zf.ZipFile(zip_name,'r')\n",
    "    files.extractall()\n",
    "    files.close()\n",
    "else:\n",
    "    print(\"exists\")"
   ]
  },
  {
   "cell_type": "code",
   "execution_count": null,
   "id": "dde26c4e",
   "metadata": {},
   "outputs": [],
   "source": [
    "\n",
    "\n"
   ]
  },
  {
   "cell_type": "code",
   "execution_count": null,
   "id": "6c5d3564",
   "metadata": {},
   "outputs": [],
   "source": []
  }
 ],
 "metadata": {
  "kernelspec": {
   "display_name": "Python 3 (ipykernel)",
   "language": "python",
   "name": "python3"
  },
  "language_info": {
   "codemirror_mode": {
    "name": "ipython",
    "version": 3
   },
   "file_extension": ".py",
   "mimetype": "text/x-python",
   "name": "python",
   "nbconvert_exporter": "python",
   "pygments_lexer": "ipython3",
   "version": "3.9.6"
  }
 },
 "nbformat": 4,
 "nbformat_minor": 5
}
