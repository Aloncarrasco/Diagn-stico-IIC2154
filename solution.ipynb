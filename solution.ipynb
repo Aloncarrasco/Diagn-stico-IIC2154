{
 "cells": [
  {
   "cell_type": "code",
   "execution_count": 1,
   "id": "5c2ecce7",
   "metadata": {},
   "outputs": [],
   "source": [
    "from pathlib import Path\n",
    "import zipfile as zf"
   ]
  },
  {
   "cell_type": "code",
   "execution_count": 2,
   "id": "9e5bd0e7",
   "metadata": {},
   "outputs": [
    {
     "name": "stdout",
     "output_type": "stream",
     "text": [
      "exists\n"
     ]
    }
   ],
   "source": [
    "zip_name = \"farmers-protest-tweets-2021-03-5.json.zip\"\n",
    "json_name = \"farmers-protest-tweets-2021-03-5.json\"\n",
    "json_file = Path(json_name)\n",
    "\n",
    "# estoy suponiendo que el zip/json está en local\n",
    "# hacemos unzip del archivo si aún no\n",
    "# está extraido\n",
    "\n",
    "if not json_file.exists():\n",
    "    print(\"does not exist\")\n",
    "    print(\"unzipping\")\n",
    "    files = zf.ZipFile(zip_name,'r')\n",
    "    files.extractall()\n",
    "    files.close()\n",
    "else:\n",
    "    print(\"exists\")"
   ]
  },
  {
   "cell_type": "code",
   "execution_count": 3,
   "id": "dde26c4e",
   "metadata": {},
   "outputs": [
    {
     "name": "stdout",
     "output_type": "stream",
     "text": [
      "1\n"
     ]
    }
   ],
   "source": [
    "import json\n",
    "\n",
    "filename = \"farmers-protest-tweets-2021-03-5.json\"\n",
    "data = []\n",
    "counter = 0\n",
    "with open(filename) as f:\n",
    "    for line in f:\n",
    "        counter += 1\n",
    "        if not counter % 10000:\n",
    "            print(counter // 10000)\n",
    "        if counter == 10000:\n",
    "            break\n",
    "        json.loads(line)\n",
    "\n",
    "\n"
   ]
  },
  {
   "cell_type": "code",
   "execution_count": 27,
   "id": "641d1d33",
   "metadata": {},
   "outputs": [],
   "source": [
    "def top_10_retweeted(filename):\n",
    "\n",
    "    counter = 0\n",
    "    N = 10\n",
    "    tweets = [None for _ in range(10)]\n",
    "    n_retweets = [-1 for _ in range(10)]\n",
    "    min_pos = 0\n",
    "\n",
    "    with open(filename) as f:\n",
    "\n",
    "        for line in f:\n",
    "            \n",
    "            json_object = json.loads(line)\n",
    "            if n_retweets[min_pos] < json_object[\"retweetCount\"]:\n",
    "                tweets[min_pos] = json_object\n",
    "                n_retweets[min_pos] = json_object[\"retweetCount\"]\n",
    "                min_pos = min(range(len(n_retweets)), key=n_retweets.__getitem__)\n",
    "                \n",
    "            counter += 1\n",
    "            if not counter % 10000:\n",
    "                print(counter // 10000)\n",
    "            #if counter == 10000:\n",
    "            #    break\n",
    "\n",
    "            # print(json_object.keys())\n",
    "            # print(json_object[\"retweetCount\"])\n",
    "    return tweets, n_retweets\n"
   ]
  },
  {
   "cell_type": "code",
   "execution_count": 39,
   "id": "eeca3ceb",
   "metadata": {},
   "outputs": [
    {
     "name": "stdout",
     "output_type": "stream",
     "text": [
      "19897138\n",
      "128334973\n",
      "36327407\n",
      "357267251\n",
      "238278490\n",
      "2359140223\n",
      "895814938995957760\n",
      "15936294\n",
      "6509832\n",
      "44839509\n"
     ]
    }
   ],
   "source": [
    "filename = \"farmers-protest-tweets-2021-03-5.json\"\n",
    "def top_10_users(filename):\n",
    "    N = 10\n",
    "    users = [None for _ in range(N)]\n",
    "    users_id = [None for _ in range(N)]\n",
    "    n_tweets = [-1 for _ in range(N)]\n",
    "    min_pos = 0\n",
    "    field = \"statusesCount\"\n",
    "\n",
    "    with open(filename) as f:\n",
    "\n",
    "        for line in f:\n",
    "            \n",
    "            json_tweet = json.loads(line)\n",
    "            json_user = json_tweet['user']\n",
    "            if n_tweets[min_pos] < json_user[field]:\n",
    "                if json_user['id'] not in users_id:\n",
    "                    users[min_pos] = json_user\n",
    "                    n_tweets[min_pos] = json_user[field]\n",
    "                    users_id[min_pos] = json_user['id']\n",
    "                    min_pos = min(range(len(n_tweets)), key=n_tweets.__getitem__)\n",
    "                \n",
    "\n",
    "    return users, n_tweets\n",
    "users, _ = top_10_users(filename)\n",
    "for user in users:\n",
    "    print(user['id'])"
   ]
  },
  {
   "cell_type": "code",
   "execution_count": 60,
   "id": "d85101a5",
   "metadata": {},
   "outputs": [
    {
     "name": "stdout",
     "output_type": "stream",
     "text": [
      "1\n",
      "2\n",
      "3\n",
      "4\n",
      "5\n",
      "{'2021-03-26': 3958, '2021-03-16': 3113, '2021-03-27': 2995, '2021-03-18': 2964, '2021-03-21': 2650, '2021-03-20': 2595, '2021-03-25': 2584, '2021-03-19': 2516, '2021-03-13': 2492, '2021-03-17': 2451}\n"
     ]
    }
   ],
   "source": [
    "filename = \"farmers-protest-tweets-2021-03-5.json\"\n",
    "def top_10_days(filename):\n",
    "    \n",
    "    days_dict = {}\n",
    "\n",
    "    min_pos = 0\n",
    "    field = \"statusesCount\"\n",
    "    \n",
    "    counter = 0\n",
    "\n",
    "    with open(filename) as f:\n",
    "\n",
    "        for line in f:\n",
    "            \n",
    "            json_tweet = json.loads(line)\n",
    "            date = json_tweet['date'][:10]\n",
    "            if date not in days_dict.keys():\n",
    "                days_dict[date] = 1\n",
    "            else:\n",
    "                days_dict[date] += 1\n",
    "                \n",
    "            #counter += 1\n",
    "                \n",
    "            #if not counter % 10000:\n",
    "            #    print(counter // 10000)\n",
    "            #if counter == 5 * 10**4:\n",
    "            #    break\n",
    "            \n",
    "    sorted_days = {k: v for k, v in sorted(days_dict.items(), key=lambda item: item[1], reverse=True)}\n",
    "    top_days = {k: sorted_days[k] for k in list(sorted_days)[:10]}\n",
    "    \n",
    "    return top_days\n",
    "            \n",
    "print(top_10_days(filename))\n",
    "#for user in users:\n",
    "#    print(user['id'])"
   ]
  },
  {
   "cell_type": "code",
   "execution_count": 28,
   "id": "8fa54e2a",
   "metadata": {},
   "outputs": [
    {
     "name": "stdout",
     "output_type": "stream",
     "text": [
      "1\n",
      "2\n",
      "3\n",
      "4\n",
      "5\n",
      "6\n",
      "7\n",
      "8\n",
      "9\n",
      "10\n",
      "11\n",
      "12\n",
      "13\n",
      "14\n",
      "15\n",
      "16\n",
      "17\n",
      "18\n",
      "19\n",
      "20\n",
      "21\n",
      "22\n",
      "23\n",
      "24\n",
      "25\n",
      "26\n",
      "27\n",
      "28\n",
      "29\n",
      "30\n",
      "31\n",
      "32\n",
      "33\n",
      "34\n",
      "35\n",
      "36\n",
      "37\n",
      "38\n",
      "39\n",
      "40\n",
      "41\n",
      "[15677, 35921, 23251, 315547, 67694, 18744, 17368, 103957, 20132, 26972]\n",
      "15677\n",
      "35921\n",
      "23251\n",
      "315547\n",
      "67694\n",
      "18744\n",
      "17368\n",
      "103957\n",
      "20132\n",
      "26972\n"
     ]
    }
   ],
   "source": [
    "# Este es el main que llama a las otras funciones\n",
    "filename = \"farmers-protest-tweets-2021-03-5.json\"\n",
    "top_10, _ = top_10_retweeted(filename)\n",
    "print(_)\n",
    "for element in top_10:\n",
    "    print(element[\"retweetCount\"])"
   ]
  },
  {
   "cell_type": "code",
   "execution_count": 24,
   "id": "5c429083",
   "metadata": {},
   "outputs": [
    {
     "name": "stdout",
     "output_type": "stream",
     "text": [
      "[{'url': 'https://twitter.com/jasdhaliwal349/status/1375649917121650690', 'date': '2021-03-27T03:24:33+00:00', 'content': 'May God give strength and will power to all the farmers who are protesting in India. \\nStay Strong, Stay United! Your strength is Modi’s weakness!\\n\\n#FarmersProtest \\n#NoVoteTo_LiarModi https://t.co/2vTV7jSQj8', 'renderedContent': 'May God give strength and will power to all the farmers who are protesting in India. \\nStay Strong, Stay United! Your strength is Modi’s weakness!\\n\\n#FarmersProtest \\n#NoVoteTo_LiarModi https://t.co/2vTV7jSQj8', 'id': 1375649917121650690, 'user': {'username': 'jasdhaliwal349', 'displayname': 'Jaspreet Dhaliwal', 'id': 1333529163123212290, 'description': 'ਹਮ ਨਹੀਂ ਚੰਗੇ ਬੁਰਾ ਨਹੀ ਕੋਇ॥ (I’m not good; no one is bad)', 'rawDescription': 'ਹਮ ਨਹੀਂ ਚੰਗੇ ਬੁਰਾ ਨਹੀ ਕੋਇ॥ (I’m not good; no one is bad)', 'descriptionUrls': [], 'verified': False, 'created': '2020-11-30T21:52:00+00:00', 'followersCount': 541, 'friendsCount': 508, 'statusesCount': 2398, 'favouritesCount': 1426, 'listedCount': 0, 'mediaCount': 152, 'location': '', 'protected': False, 'linkUrl': None, 'linkTcourl': None, 'profileImageUrl': 'https://pbs.twimg.com/profile_images/1362618271694876678/WVDiasmK_normal.jpg', 'profileBannerUrl': 'https://pbs.twimg.com/profile_banners/1333529163123212290/1606774039', 'url': 'https://twitter.com/jasdhaliwal349'}, 'outlinks': [], 'tcooutlinks': [], 'replyCount': 24, 'retweetCount': 865, 'likeCount': 703, 'quoteCount': 29, 'conversationId': 1375649917121650690, 'lang': 'en', 'source': '<a href=\"http://twitter.com/download/iphone\" rel=\"nofollow\">Twitter for iPhone</a>', 'sourceUrl': 'http://twitter.com/download/iphone', 'sourceLabel': 'Twitter for iPhone', 'media': [{'previewUrl': 'https://pbs.twimg.com/media/ExdKTxEVEAMrXXS?format=jpg&name=small', 'fullUrl': 'https://pbs.twimg.com/media/ExdKTxEVEAMrXXS?format=jpg&name=large', 'type': 'photo'}], 'retweetedTweet': None, 'quotedTweet': None, 'mentionedUsers': None}, {'url': 'https://twitter.com/saahilmenghani/status/1376205351058464768', 'date': '2021-03-28T16:11:39+00:00', 'content': '#Breaking\\n\\n👉Zee Owner Subhash Chandra had an event today in Hisar\\n\\n👉100s of Farmers gheroed the venue &amp; forced Chandra to cancel it\\n\\n👉Event organizers apologize to farmers for inviting him\\n\\n👉Zee been peddling hate against farmers. #FarmersProtest giving it back to #GodiMedia https://t.co/r330EJCb3c', 'renderedContent': '#Breaking\\n\\n👉Zee Owner Subhash Chandra had an event today in Hisar\\n\\n👉100s of Farmers gheroed the venue &amp; forced Chandra to cancel it\\n\\n👉Event organizers apologize to farmers for inviting him\\n\\n👉Zee been peddling hate against farmers. #FarmersProtest giving it back to #GodiMedia https://t.co/r330EJCb3c', 'id': 1376205351058464768, 'user': {'username': 'saahilmenghani', 'displayname': 'Saahil Murli Menghani', 'id': 79178279, 'description': 'News Anchor & Reporter ||\\n\\nYoutube.com/saaaaahil ||\\n\\nFacebook.com/SaahilMurliMen… ||\\n\\nInstagram.com/SaahilMurliMen… ||\\n\\nPatreon.com/SaahilMurliMen…', 'rawDescription': 'News Anchor & Reporter ||\\n\\nhttps://t.co/hJ55aVGtgZ ||\\n\\nhttps://t.co/PdCyMM2f69 ||\\n\\nhttps://t.co/im3nj25GoI ||\\n\\nhttps://t.co/g4dElqR6zH', 'descriptionUrls': [{'text': 'Youtube.com/saaaaahil', 'url': 'http://Youtube.com/saaaaahil', 'tcourl': 'https://t.co/hJ55aVGtgZ', 'indices': [27, 50]}, {'text': 'Facebook.com/SaahilMurliMen…', 'url': 'http://Facebook.com/SaahilMurliMenghani', 'tcourl': 'https://t.co/PdCyMM2f69', 'indices': [55, 78]}, {'text': 'Instagram.com/SaahilMurliMen…', 'url': 'http://Instagram.com/SaahilMurliMenghani', 'tcourl': 'https://t.co/im3nj25GoI', 'indices': [83, 106]}, {'text': 'Patreon.com/SaahilMurliMen…', 'url': 'http://Patreon.com/SaahilMurliMenghani', 'tcourl': 'https://t.co/g4dElqR6zH', 'indices': [111, 134]}], 'verified': True, 'created': '2009-10-02T13:18:36+00:00', 'followersCount': 86811, 'friendsCount': 457, 'statusesCount': 23292, 'favouritesCount': 45861, 'listedCount': 238, 'mediaCount': 2928, 'location': 'India', 'protected': False, 'linkUrl': 'https://t.me/joinchat/TnPdTMRm0baUbEdu', 'linkTcourl': 'https://t.co/Mur7QSQgYh', 'profileImageUrl': 'https://pbs.twimg.com/profile_images/476836483383320577/bZYJ0O-g_normal.jpeg', 'profileBannerUrl': 'https://pbs.twimg.com/profile_banners/79178279/1589625942', 'url': 'https://twitter.com/saahilmenghani'}, 'outlinks': [], 'tcooutlinks': [], 'replyCount': 77, 'retweetCount': 1220, 'likeCount': 2854, 'quoteCount': 58, 'conversationId': 1376205351058464768, 'lang': 'en', 'source': '<a href=\"https://studio.twitter.com\" rel=\"nofollow\">Twitter Media Studio</a>', 'sourceUrl': 'https://studio.twitter.com', 'sourceLabel': 'Twitter Media Studio', 'media': [{'thumbnailUrl': 'https://pbs.twimg.com/amplify_video_thumb/1376202970396651522/img/S8WVH6eaKUDePZEF.jpg', 'variants': [{'contentType': 'application/x-mpegURL', 'url': 'https://video.twimg.com/amplify_video/1376202970396651522/pl/4qc0aI_YVGwsjIGw.m3u8?tag=14', 'bitrate': None}, {'contentType': 'video/mp4', 'url': 'https://video.twimg.com/amplify_video/1376202970396651522/vid/320x320/L8BslhOGYB6Ye-4K.mp4?tag=14', 'bitrate': 432000}, {'contentType': 'video/mp4', 'url': 'https://video.twimg.com/amplify_video/1376202970396651522/vid/540x540/qpMsLVkPZkR7T9eY.mp4?tag=14', 'bitrate': 832000}, {'contentType': 'video/mp4', 'url': 'https://video.twimg.com/amplify_video/1376202970396651522/vid/720x720/hqZ94-AUYAKxq0Ld.mp4?tag=14', 'bitrate': 1280000}], 'duration': 36.871, 'type': 'video'}], 'retweetedTweet': None, 'quotedTweet': None, 'mentionedUsers': None}, {'url': 'https://twitter.com/Taman_Rupal/status/1375641039369728001', 'date': '2021-03-27T02:49:16+00:00', 'content': 'This man made our country feel shameful in the whole world #NoVoteTo_LiarModi #FarmersProtest https://t.co/6PbIgMQN6D', 'renderedContent': 'This man made our country feel shameful in the whole world #NoVoteTo_LiarModi #FarmersProtest https://t.co/6PbIgMQN6D', 'id': 1375641039369728001, 'user': {'username': 'Taman_Rupal', 'displayname': '𝐓𝔞𝔪𝔞𝔫𝔭𝔯𝔢𝔢𝔱 𝔎𝔞𝔲𝔯 🌸💫', 'id': 1332935724727865345, 'description': '𝓟𝓪𝓲𝔁 🕊 𝓐𝓶𝓸𝓾𝓻 ♥️ 𝓑𝓸𝓷𝓱𝓮𝓾𝓻 🥰  تمنپریت  ਪੰਜਾਬ, ਪੰਜਾਬੀ , ਪੰਜਾਬੀਅਤ ♥️ ———👑🦄🌈🦋 ꧁¸.·✩·.¸¸.·¯ 𝕏𝕠𝕩𝕠 ¸.·✩·.¸¸.·¯꧂', 'rawDescription': '𝓟𝓪𝓲𝔁 🕊 𝓐𝓶𝓸𝓾𝓻 ♥️ 𝓑𝓸𝓷𝓱𝓮𝓾𝓻 🥰  تمنپریت  ਪੰਜਾਬ, ਪੰਜਾਬੀ , ਪੰਜਾਬੀਅਤ ♥️ ———👑🦄🌈🦋 ꧁¸.·✩·.¸¸.·¯ 𝕏𝕠𝕩𝕠 ¸.·✩·.¸¸.·¯꧂', 'descriptionUrls': [], 'verified': False, 'created': '2020-11-29T06:33:48+00:00', 'followersCount': 2134, 'friendsCount': 511, 'statusesCount': 4758, 'favouritesCount': 6149, 'listedCount': 2, 'mediaCount': 852, 'location': 'Ludhiana, Punjab ', 'protected': False, 'linkUrl': None, 'linkTcourl': None, 'profileImageUrl': 'https://pbs.twimg.com/profile_images/1362300696675016705/aUG2sjy8_normal.jpg', 'profileBannerUrl': 'https://pbs.twimg.com/profile_banners/1332935724727865345/1613553366', 'url': 'https://twitter.com/Taman_Rupal'}, 'outlinks': [], 'tcooutlinks': [], 'replyCount': 31, 'retweetCount': 627, 'likeCount': 500, 'quoteCount': 19, 'conversationId': 1375641039369728001, 'lang': 'en', 'source': '<a href=\"http://twitter.com/download/iphone\" rel=\"nofollow\">Twitter for iPhone</a>', 'sourceUrl': 'http://twitter.com/download/iphone', 'sourceLabel': 'Twitter for iPhone', 'media': [{'previewUrl': 'https://pbs.twimg.com/media/ExdCOsbVEAEAaQP?format=jpg&name=small', 'fullUrl': 'https://pbs.twimg.com/media/ExdCOsbVEAEAaQP?format=jpg&name=large', 'type': 'photo'}], 'retweetedTweet': None, 'quotedTweet': None, 'mentionedUsers': None}, {'url': 'https://twitter.com/NavJammu/status/1375629316202000386', 'date': '2021-03-27T02:02:41+00:00', 'content': 'Modi or his promises cannot be trusted. \\n\\n#NoVoteTo_LiarModi\\n#FarmersProtest https://t.co/vxEJwEidAU', 'renderedContent': 'Modi or his promises cannot be trusted. \\n\\n#NoVoteTo_LiarModi\\n#FarmersProtest https://t.co/vxEJwEidAU', 'id': 1375629316202000386, 'user': {'username': 'NavJammu', 'displayname': 'Navneet Jammu', 'id': 546937543, 'description': 'Love for humanity. Fighting for justice. Currently focused on bringing awareness #FarmersProtest #IStandWithFarmers (Do not follow only to DM! I will ignore.)', 'rawDescription': 'Love for humanity. Fighting for justice. Currently focused on bringing awareness #FarmersProtest #IStandWithFarmers (Do not follow only to DM! I will ignore.)', 'descriptionUrls': [], 'verified': False, 'created': '2012-04-06T16:35:27+00:00', 'followersCount': 1660, 'friendsCount': 1025, 'statusesCount': 24984, 'favouritesCount': 13508, 'listedCount': 1, 'mediaCount': 790, 'location': '', 'protected': False, 'linkUrl': 'http://farmerprotests.carrd.co', 'linkTcourl': 'https://t.co/bWvFVUdpKN', 'profileImageUrl': 'https://pbs.twimg.com/profile_images/1365559741196300295/BQooGvVb_normal.jpg', 'profileBannerUrl': 'https://pbs.twimg.com/profile_banners/546937543/1609142937', 'url': 'https://twitter.com/NavJammu'}, 'outlinks': [], 'tcooutlinks': [], 'replyCount': 1, 'retweetCount': 727, 'likeCount': 681, 'quoteCount': 33, 'conversationId': 1375629316202000386, 'lang': 'en', 'source': '<a href=\"http://twitter.com/download/iphone\" rel=\"nofollow\">Twitter for iPhone</a>', 'sourceUrl': 'http://twitter.com/download/iphone', 'sourceLabel': 'Twitter for iPhone', 'media': [{'previewUrl': 'https://pbs.twimg.com/media/Exc3kPcU8AA-vtg?format=jpg&name=small', 'fullUrl': 'https://pbs.twimg.com/media/Exc3kPcU8AA-vtg?format=jpg&name=large', 'type': 'photo'}], 'retweetedTweet': None, 'quotedTweet': None, 'mentionedUsers': None}, {'url': 'https://twitter.com/Its_mannkaur/status/1375624092284416003', 'date': '2021-03-27T01:41:56+00:00', 'content': 'While looking at These innocent faces, whose conscience permit to vote to Modi govt? Mine not!\\n\\n#NoVoteTo_LiarModi \\n#FarmersProtest https://t.co/lkQzJ6rGNw', 'renderedContent': 'While looking at These innocent faces, whose conscience permit to vote to Modi govt? Mine not!\\n\\n#NoVoteTo_LiarModi \\n#FarmersProtest https://t.co/lkQzJ6rGNw', 'id': 1375624092284416003, 'user': {'username': 'Its_mannkaur', 'displayname': 'm@Nnnn', 'id': 1332643471191117825, 'description': 'ਹਮ ਨਹੀ ਚੰਗੇ ਬੁਰਾ ਨਹੀ ਕੋੲਿ॥ -\\n⛔ No DM - Respecting_All - engaged in exploring my soul♥️', 'rawDescription': 'ਹਮ ਨਹੀ ਚੰਗੇ ਬੁਰਾ ਨਹੀ ਕੋੲਿ॥ -\\n⛔ No DM - Respecting_All - engaged in exploring my soul♥️', 'descriptionUrls': [], 'verified': False, 'created': '2020-11-28T11:12:46+00:00', 'followersCount': 1416, 'friendsCount': 925, 'statusesCount': 6108, 'favouritesCount': 7163, 'listedCount': 1, 'mediaCount': 219, 'location': '', 'protected': False, 'linkUrl': None, 'linkTcourl': None, 'profileImageUrl': 'https://pbs.twimg.com/profile_images/1364899785673633795/wiZ3vMFZ_normal.jpg', 'profileBannerUrl': 'https://pbs.twimg.com/profile_banners/1332643471191117825/1612856774', 'url': 'https://twitter.com/Its_mannkaur'}, 'outlinks': [], 'tcooutlinks': [], 'replyCount': 33, 'retweetCount': 562, 'likeCount': 482, 'quoteCount': 29, 'conversationId': 1375624092284416003, 'lang': 'en', 'source': '<a href=\"http://twitter.com/download/android\" rel=\"nofollow\">Twitter for Android</a>', 'sourceUrl': 'http://twitter.com/download/android', 'sourceLabel': 'Twitter for Android', 'media': [{'previewUrl': 'https://pbs.twimg.com/media/ExcyzmJXMAMHPpb?format=jpg&name=small', 'fullUrl': 'https://pbs.twimg.com/media/ExcyzmJXMAMHPpb?format=jpg&name=large', 'type': 'photo'}, {'previewUrl': 'https://pbs.twimg.com/media/ExcyzxXWYAAZxK2?format=jpg&name=small', 'fullUrl': 'https://pbs.twimg.com/media/ExcyzxXWYAAZxK2?format=jpg&name=large', 'type': 'photo'}, {'previewUrl': 'https://pbs.twimg.com/media/Excy0jdXMAE1ik-?format=jpg&name=small', 'fullUrl': 'https://pbs.twimg.com/media/Excy0jdXMAE1ik-?format=jpg&name=large', 'type': 'photo'}], 'retweetedTweet': None, 'quotedTweet': None, 'mentionedUsers': None}, {'url': 'https://twitter.com/amaanbali/status/1375784155305320451', 'date': '2021-03-27T12:17:58+00:00', 'content': 'BJP MLA from Abohar Arun Narang faced heat of agitation when his clothes were torn apart by farmers and black ink was thrown at him. Narang had gone to attend PC at Malout. Notably Narang has always said that farmers protest is Khalistani protest. #FarmersProtest https://t.co/xrMvKKroIm', 'renderedContent': 'BJP MLA from Abohar Arun Narang faced heat of agitation when his clothes were torn apart by farmers and black ink was thrown at him. Narang had gone to attend PC at Malout. Notably Narang has always said that farmers protest is Khalistani protest. #FarmersProtest https://t.co/xrMvKKroIm', 'id': 1375784155305320451, 'user': {'username': 'amaanbali', 'displayname': 'Amaan', 'id': 70364936, 'description': '|| Author || Born and Raised up in Kashmir || Upcoming Book- ‘Growing up on the right side of Kashmir History’', 'rawDescription': '|| Author || Born and Raised up in Kashmir || Upcoming Book- ‘Growing up on the right side of Kashmir History’', 'descriptionUrls': [], 'verified': False, 'created': '2009-08-31T10:52:08+00:00', 'followersCount': 29293, 'friendsCount': 1288, 'statusesCount': 16164, 'favouritesCount': 9365, 'listedCount': 76, 'mediaCount': 2377, 'location': 'Mumbai, India', 'protected': False, 'linkUrl': 'http://amaanbali.wordpress.com', 'linkTcourl': 'https://t.co/GVuA3SAous', 'profileImageUrl': 'https://pbs.twimg.com/profile_images/1365879489767436297/qOonZFeT_normal.jpg', 'profileBannerUrl': 'https://pbs.twimg.com/profile_banners/70364936/1561894124', 'url': 'https://twitter.com/amaanbali'}, 'outlinks': [], 'tcooutlinks': [], 'replyCount': 439, 'retweetCount': 793, 'likeCount': 2649, 'quoteCount': 161, 'conversationId': 1375784155305320451, 'lang': 'en', 'source': '<a href=\"http://twitter.com/download/iphone\" rel=\"nofollow\">Twitter for iPhone</a>', 'sourceUrl': 'http://twitter.com/download/iphone', 'sourceLabel': 'Twitter for iPhone', 'media': [{'previewUrl': 'https://pbs.twimg.com/media/ExfEYiPU4AAl89o?format=jpg&name=small', 'fullUrl': 'https://pbs.twimg.com/media/ExfEYiPU4AAl89o?format=jpg&name=large', 'type': 'photo'}], 'retweetedTweet': None, 'quotedTweet': None, 'mentionedUsers': None}, {'url': 'https://twitter.com/NavJammu/status/1375637232954961926', 'date': '2021-03-27T02:34:09+00:00', 'content': 'I can’t believe we have to say this: farmers are not terrorists! \\n\\nJust look at these faces.. \\n\\n#NoVoteTo_LiarModi\\n#FarmersProtest https://t.co/MQPmmH24qI', 'renderedContent': 'I can’t believe we have to say this: farmers are not terrorists! \\n\\nJust look at these faces.. \\n\\n#NoVoteTo_LiarModi\\n#FarmersProtest https://t.co/MQPmmH24qI', 'id': 1375637232954961926, 'user': {'username': 'NavJammu', 'displayname': 'Navneet Jammu', 'id': 546937543, 'description': 'Love for humanity. Fighting for justice. Currently focused on bringing awareness #FarmersProtest #IStandWithFarmers (Do not follow only to DM! I will ignore.)', 'rawDescription': 'Love for humanity. Fighting for justice. Currently focused on bringing awareness #FarmersProtest #IStandWithFarmers (Do not follow only to DM! I will ignore.)', 'descriptionUrls': [], 'verified': False, 'created': '2012-04-06T16:35:27+00:00', 'followersCount': 1660, 'friendsCount': 1025, 'statusesCount': 24984, 'favouritesCount': 13508, 'listedCount': 1, 'mediaCount': 790, 'location': '', 'protected': False, 'linkUrl': 'http://farmerprotests.carrd.co', 'linkTcourl': 'https://t.co/bWvFVUdpKN', 'profileImageUrl': 'https://pbs.twimg.com/profile_images/1365559741196300295/BQooGvVb_normal.jpg', 'profileBannerUrl': 'https://pbs.twimg.com/profile_banners/546937543/1609142937', 'url': 'https://twitter.com/NavJammu'}, 'outlinks': [], 'tcooutlinks': [], 'replyCount': 2, 'retweetCount': 727, 'likeCount': 649, 'quoteCount': 40, 'conversationId': 1375637232954961926, 'lang': 'en', 'source': '<a href=\"http://twitter.com/download/iphone\" rel=\"nofollow\">Twitter for iPhone</a>', 'sourceUrl': 'http://twitter.com/download/iphone', 'sourceLabel': 'Twitter for iPhone', 'media': [{'previewUrl': 'https://pbs.twimg.com/media/Exc-w7uUUAMl4zx?format=jpg&name=small', 'fullUrl': 'https://pbs.twimg.com/media/Exc-w7uUUAMl4zx?format=jpg&name=large', 'type': 'photo'}, {'previewUrl': 'https://pbs.twimg.com/media/Exc-w7vUYAAXRNI?format=jpg&name=small', 'fullUrl': 'https://pbs.twimg.com/media/Exc-w7vUYAAXRNI?format=jpg&name=large', 'type': 'photo'}, {'previewUrl': 'https://pbs.twimg.com/media/Exc-w73UYAAnHlF?format=jpg&name=small', 'fullUrl': 'https://pbs.twimg.com/media/Exc-w73UYAAnHlF?format=jpg&name=large', 'type': 'photo'}, {'previewUrl': 'https://pbs.twimg.com/media/Exc-w74VEAAF51p?format=jpg&name=small', 'fullUrl': 'https://pbs.twimg.com/media/Exc-w74VEAAF51p?format=jpg&name=large', 'type': 'photo'}], 'retweetedTweet': None, 'quotedTweet': None, 'mentionedUsers': None}, {'url': 'https://twitter.com/RaviSinghKA/status/1375901131986075651', 'date': '2021-03-27T20:02:47+00:00', 'content': 'WARNING: 🚨 Partial Nudity !\\n\\nBJP MLA from Abohar, Arun Narang who continually called the protesting farmers as “Khalistani” faced the anger of the farmers. #FarmersProtest https://t.co/3iGy88wkGp', 'renderedContent': 'WARNING: 🚨 Partial Nudity !\\n\\nBJP MLA from Abohar, Arun Narang who continually called the protesting farmers as “Khalistani” faced the anger of the farmers. #FarmersProtest https://t.co/3iGy88wkGp', 'id': 1375901131986075651, 'user': {'username': 'RaviSinghKA', 'displayname': 'ravinder singh', 'id': 2347762888, 'description': 'Founder/CEO of Khalsa Aid, Sikh,philanthropist, 20 Years of coordinating aid,humanitarian & passionate about human rights.All views my own:Inc working in Iraq', 'rawDescription': 'Founder/CEO of Khalsa Aid, Sikh,philanthropist, 20 Years of coordinating aid,humanitarian & passionate about human rights.All views my own:Inc working in Iraq', 'descriptionUrls': [], 'verified': True, 'created': '2014-02-16T23:38:54+00:00', 'followersCount': 238259, 'friendsCount': 4081, 'statusesCount': 38911, 'favouritesCount': 30393, 'listedCount': 211, 'mediaCount': 4973, 'location': 'Slough, England ', 'protected': False, 'linkUrl': 'http://www.khalsaaid.org', 'linkTcourl': 'https://t.co/cgdi8BLkK2', 'profileImageUrl': 'https://pbs.twimg.com/profile_images/686526444642643968/bnCPdE7N_normal.jpg', 'profileBannerUrl': 'https://pbs.twimg.com/profile_banners/2347762888/1591307489', 'url': 'https://twitter.com/RaviSinghKA'}, 'outlinks': [], 'tcooutlinks': [], 'replyCount': 386, 'retweetCount': 985, 'likeCount': 5054, 'quoteCount': 93, 'conversationId': 1375901131986075651, 'lang': 'en', 'source': '<a href=\"http://twitter.com/download/iphone\" rel=\"nofollow\">Twitter for iPhone</a>', 'sourceUrl': 'http://twitter.com/download/iphone', 'sourceLabel': 'Twitter for iPhone', 'media': [{'previewUrl': 'https://pbs.twimg.com/media/ExguyU2WUAw11d4?format=jpg&name=small', 'fullUrl': 'https://pbs.twimg.com/media/ExguyU2WUAw11d4?format=jpg&name=large', 'type': 'photo'}], 'retweetedTweet': None, 'quotedTweet': None, 'mentionedUsers': None}, {'url': 'https://twitter.com/saahilmenghani/status/1376087143903227905', 'date': '2021-03-28T08:21:56+00:00', 'content': \"#Breaking\\n\\n👉UP BJP MLA Nand Kishore forced to leave an event by #FarmersProtest\\n\\n👉Bharat Kisan Union says shoes flung at his car\\n\\n👉It was his visit to Gazipur in Jan that had led to Rakesh Tikait's iconic emotional outburst\\n\\n👉Tikait had alleged Nand wanted to beat up farmers https://t.co/k7wrH1RFuz\", 'renderedContent': \"#Breaking\\n\\n👉UP BJP MLA Nand Kishore forced to leave an event by #FarmersProtest\\n\\n👉Bharat Kisan Union says shoes flung at his car\\n\\n👉It was his visit to Gazipur in Jan that had led to Rakesh Tikait's iconic emotional outburst\\n\\n👉Tikait had alleged Nand wanted to beat up farmers https://t.co/k7wrH1RFuz\", 'id': 1376087143903227905, 'user': {'username': 'saahilmenghani', 'displayname': 'Saahil Murli Menghani', 'id': 79178279, 'description': 'News Anchor & Reporter ||\\n\\nYoutube.com/saaaaahil ||\\n\\nFacebook.com/SaahilMurliMen… ||\\n\\nInstagram.com/SaahilMurliMen… ||\\n\\nPatreon.com/SaahilMurliMen…', 'rawDescription': 'News Anchor & Reporter ||\\n\\nhttps://t.co/hJ55aVGtgZ ||\\n\\nhttps://t.co/PdCyMM2f69 ||\\n\\nhttps://t.co/im3nj25GoI ||\\n\\nhttps://t.co/g4dElqR6zH', 'descriptionUrls': [{'text': 'Youtube.com/saaaaahil', 'url': 'http://Youtube.com/saaaaahil', 'tcourl': 'https://t.co/hJ55aVGtgZ', 'indices': [27, 50]}, {'text': 'Facebook.com/SaahilMurliMen…', 'url': 'http://Facebook.com/SaahilMurliMenghani', 'tcourl': 'https://t.co/PdCyMM2f69', 'indices': [55, 78]}, {'text': 'Instagram.com/SaahilMurliMen…', 'url': 'http://Instagram.com/SaahilMurliMenghani', 'tcourl': 'https://t.co/im3nj25GoI', 'indices': [83, 106]}, {'text': 'Patreon.com/SaahilMurliMen…', 'url': 'http://Patreon.com/SaahilMurliMenghani', 'tcourl': 'https://t.co/g4dElqR6zH', 'indices': [111, 134]}], 'verified': True, 'created': '2009-10-02T13:18:36+00:00', 'followersCount': 86811, 'friendsCount': 457, 'statusesCount': 23292, 'favouritesCount': 45861, 'listedCount': 238, 'mediaCount': 2928, 'location': 'India', 'protected': False, 'linkUrl': 'https://t.me/joinchat/TnPdTMRm0baUbEdu', 'linkTcourl': 'https://t.co/Mur7QSQgYh', 'profileImageUrl': 'https://pbs.twimg.com/profile_images/476836483383320577/bZYJ0O-g_normal.jpeg', 'profileBannerUrl': 'https://pbs.twimg.com/profile_banners/79178279/1589625942', 'url': 'https://twitter.com/saahilmenghani'}, 'outlinks': [], 'tcooutlinks': [], 'replyCount': 50, 'retweetCount': 553, 'likeCount': 1240, 'quoteCount': 45, 'conversationId': 1376087143903227905, 'lang': 'en', 'source': '<a href=\"https://studio.twitter.com\" rel=\"nofollow\">Twitter Media Studio</a>', 'sourceUrl': 'https://studio.twitter.com', 'sourceLabel': 'Twitter Media Studio', 'media': [{'thumbnailUrl': 'https://pbs.twimg.com/amplify_video_thumb/1376085879182139398/img/o9NKKjgMe6Eglwv6.jpg', 'variants': [{'contentType': 'application/x-mpegURL', 'url': 'https://video.twimg.com/amplify_video/1376085879182139398/pl/1m2OJ-W-z4HRtIuD.m3u8?tag=14', 'bitrate': None}, {'contentType': 'video/mp4', 'url': 'https://video.twimg.com/amplify_video/1376085879182139398/vid/320x456/zh4GrChluZTTWYLq.mp4?tag=14', 'bitrate': 632000}, {'contentType': 'video/mp4', 'url': 'https://video.twimg.com/amplify_video/1376085879182139398/vid/480x684/Hy5kR3nVUpVudgPM.mp4?tag=14', 'bitrate': 950000}, {'contentType': 'video/mp4', 'url': 'https://video.twimg.com/amplify_video/1376085879182139398/vid/720x1028/khx2OflH0Cxo_j0w.mp4?tag=14', 'bitrate': 2176000}], 'duration': 27.555, 'type': 'video'}], 'retweetedTweet': None, 'quotedTweet': None, 'mentionedUsers': None}, {'url': 'https://twitter.com/Drkhinda2/status/1375689526572556288', 'date': '2021-03-27T06:01:56+00:00', 'content': '#NoVoteTo_LiarModi , Farm Supporters are raiding Voice in every possible :\\n1. Cycle Campaign\\n2. Signature Campaign \\n3. Post Card Campaign \\n4. Organising Rally in “Bengal”\\nAIM: #NoVoteTo_LiarModi #FarmersProtest . Save India, Save Farmers, Save all Religions 🙏🏻 https://t.co/ufGsye9pq8', 'renderedContent': '#NoVoteTo_LiarModi , Farm Supporters are raiding Voice in every possible :\\n1. Cycle Campaign\\n2. Signature Campaign \\n3. Post Card Campaign \\n4. Organising Rally in “Bengal”\\nAIM: #NoVoteTo_LiarModi #FarmersProtest . Save India, Save Farmers, Save all Religions 🙏🏻 https://t.co/ufGsye9pq8', 'id': 1375689526572556288, 'user': {'username': 'Drkhinda2', 'displayname': 'Dr khinda ( back up a/c)', 'id': 1363552933250490373, 'description': 'Proud भारतीय:Doctorate in Mgt Oxford Uk 🇬🇧 Economist, Media Professional, From Family of Top Notch Lawyers luv AnimalsNature Be Kind,Article Writer fr Papers', 'rawDescription': 'Proud भारतीय:Doctorate in Mgt Oxford Uk 🇬🇧 Economist, Media Professional, From Family of Top Notch Lawyers luv AnimalsNature Be Kind,Article Writer fr Papers', 'descriptionUrls': [], 'verified': False, 'created': '2021-02-21T18:15:45+00:00', 'followersCount': 829, 'friendsCount': 1126, 'statusesCount': 8778, 'favouritesCount': 1087, 'listedCount': 0, 'mediaCount': 260, 'location': '', 'protected': False, 'linkUrl': None, 'linkTcourl': None, 'profileImageUrl': 'https://pbs.twimg.com/profile_images/1375429452469964804/NmKCPOF8_normal.jpg', 'profileBannerUrl': 'https://pbs.twimg.com/profile_banners/1363552933250490373/1614754041', 'url': 'https://twitter.com/Drkhinda2'}, 'outlinks': [], 'tcooutlinks': [], 'replyCount': 4, 'retweetCount': 595, 'likeCount': 567, 'quoteCount': 21, 'conversationId': 1375689526572556288, 'lang': 'en', 'source': '<a href=\"http://twitter.com/download/iphone\" rel=\"nofollow\">Twitter for iPhone</a>', 'sourceUrl': 'http://twitter.com/download/iphone', 'sourceLabel': 'Twitter for iPhone', 'media': [{'previewUrl': 'https://pbs.twimg.com/media/ExduQv6U8AEYhN7?format=jpg&name=small', 'fullUrl': 'https://pbs.twimg.com/media/ExduQv6U8AEYhN7?format=jpg&name=large', 'type': 'photo'}, {'previewUrl': 'https://pbs.twimg.com/media/ExduQv5VcAA41CE?format=jpg&name=small', 'fullUrl': 'https://pbs.twimg.com/media/ExduQv5VcAA41CE?format=jpg&name=large', 'type': 'photo'}, {'previewUrl': 'https://pbs.twimg.com/media/ExduQv7VIAAdjBW?format=jpg&name=small', 'fullUrl': 'https://pbs.twimg.com/media/ExduQv7VIAAdjBW?format=jpg&name=large', 'type': 'photo'}], 'retweetedTweet': None, 'quotedTweet': None, 'mentionedUsers': None}]\n"
     ]
    }
   ],
   "source": [
    "print(top_10)"
   ]
  },
  {
   "cell_type": "code",
   "execution_count": 9,
   "id": "fad2bb95",
   "metadata": {},
   "outputs": [
    {
     "ename": "TypeError",
     "evalue": "int() argument must be a string, a bytes-like object or a number, not 'NoneType'",
     "output_type": "error",
     "traceback": [
      "\u001b[1;31m---------------------------------------------------------------------------\u001b[0m",
      "\u001b[1;31mTypeError\u001b[0m                                 Traceback (most recent call last)",
      "Input \u001b[1;32mIn [9]\u001b[0m, in \u001b[0;36m<cell line: 1>\u001b[1;34m()\u001b[0m\n\u001b[1;32m----> 1\u001b[0m \u001b[38;5;28mprint\u001b[39m(\u001b[38;5;28;43mint\u001b[39;49m\u001b[43m(\u001b[49m\u001b[38;5;28;43;01mNone\u001b[39;49;00m\u001b[43m)\u001b[49m \u001b[38;5;241m<\u001b[39m \u001b[38;5;241m0\u001b[39m)\n",
      "\u001b[1;31mTypeError\u001b[0m: int() argument must be a string, a bytes-like object or a number, not 'NoneType'"
     ]
    }
   ],
   "source": [
    "print(int(None) < 0)"
   ]
  },
  {
   "cell_type": "markdown",
   "id": "6b01520f",
   "metadata": {},
   "source": []
  }
 ],
 "metadata": {
  "kernelspec": {
   "display_name": "Python 3 (ipykernel)",
   "language": "python",
   "name": "python3"
  },
  "language_info": {
   "codemirror_mode": {
    "name": "ipython",
    "version": 3
   },
   "file_extension": ".py",
   "mimetype": "text/x-python",
   "name": "python",
   "nbconvert_exporter": "python",
   "pygments_lexer": "ipython3",
   "version": "3.9.6"
  }
 },
 "nbformat": 4,
 "nbformat_minor": 5
}
